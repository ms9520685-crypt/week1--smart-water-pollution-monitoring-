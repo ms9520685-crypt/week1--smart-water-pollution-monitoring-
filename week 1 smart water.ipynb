{
 "cells": [
  {
   "cell_type": "code",
   "execution_count": 1,
   "id": "e7de1285-c2c6-4f3e-af7a-9216097d3110",
   "metadata": {},
   "outputs": [
    {
     "name": "stdout",
     "output_type": "stream",
     "text": [
      "Preprocessed Data:\n",
      "             Timestamp  Location        pH  Turbidity (NTU)  Temperature (°C)  \\\n",
      "0 2024-01-01 00:00:00         3  1.476128         0.754983         -1.478209   \n",
      "1 2024-01-01 01:00:00         4  0.221788        -1.476884          0.431022   \n",
      "2 2024-01-01 02:00:00         2  0.671310        -1.479751          1.678330   \n",
      "3 2024-01-01 03:00:00         4  1.443251        -1.684661         -1.071427   \n",
      "4 2024-01-01 04:00:00         4  0.707499         1.587043          1.022817   \n",
      "\n",
      "   DO (mg/L)  BOD (mg/L)  Lead (mg/L)  Mercury (mg/L)  Arsenic (mg/L)  \\\n",
      "0   0.144199   -1.154300    -1.247342        1.657955        1.608575   \n",
      "1  -1.356985    0.985660     1.668932       -0.612683       -1.109246   \n",
      "2  -1.114645   -1.298799     1.623595       -1.364468       -0.866242   \n",
      "3   0.269053    0.473021    -1.150387        0.136206       -0.761048   \n",
      "4  -0.681345   -1.294138    -0.680237       -1.507774       -1.555122   \n",
      "\n",
      "   Pollution_Level  \n",
      "0                2  \n",
      "1                2  \n",
      "2                2  \n",
      "3                2  \n",
      "4                2  \n"
     ]
    }
   ],
   "source": [
    "import pandas as pd\n",
    "from sklearn.preprocessing import StandardScaler\n",
    "\n",
    "file_path = \"Water_Quality_Dataset.csv\"\n",
    "data = pd.read_csv(file_path)\n",
    "\n",
    "data['Timestamp'] = pd.to_datetime(data['Timestamp'])\n",
    "\n",
    "data = data.fillna(data.mean(numeric_only=True))\n",
    "\n",
    "data['Location'] = data['Location'].astype('category').cat.codes\n",
    "\n",
    "scaler = StandardScaler()\n",
    "numerical_cols = ['pH', 'Turbidity (NTU)', 'Temperature (°C)', \n",
    "                  'DO (mg/L)', 'BOD (mg/L)', \n",
    "                  'Lead (mg/L)', 'Mercury (mg/L)', 'Arsenic (mg/L)']\n",
    "\n",
    "data[numerical_cols] = scaler.fit_transform(data[numerical_cols])\n",
    "\n",
    "print(\"Preprocessed Data:\\n\", data.head())\n"
   ]
  },
  {
   "cell_type": "code",
   "execution_count": null,
   "id": "6bd6bb3e-1a9b-4294-9acd-cb6e021a1702",
   "metadata": {},
   "outputs": [],
   "source": []
  }
 ],
 "metadata": {
  "kernelspec": {
   "display_name": "Python 3 (ipykernel)",
   "language": "python",
   "name": "python3"
  },
  "language_info": {
   "codemirror_mode": {
    "name": "ipython",
    "version": 3
   },
   "file_extension": ".py",
   "mimetype": "text/x-python",
   "name": "python",
   "nbconvert_exporter": "python",
   "pygments_lexer": "ipython3",
   "version": "3.12.7"
  }
 },
 "nbformat": 4,
 "nbformat_minor": 5
}
